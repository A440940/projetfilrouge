{
 "cells": [
  {
   "cell_type": "markdown",
   "metadata": {},
   "source": [
    "# Notebook d'exploration : sélection de features pertinents et choix des étapes de nettoyage"
   ]
  },
  {
   "cell_type": "code",
   "execution_count": 687,
   "metadata": {},
   "outputs": [],
   "source": [
    "import numpy as np\n",
    "import pandas as pd\n",
    "from typing import List"
   ]
  },
  {
   "cell_type": "code",
   "execution_count": 688,
   "metadata": {},
   "outputs": [
    {
     "data": {
      "text/html": [
       "<div>\n",
       "<style scoped>\n",
       "    .dataframe tbody tr th:only-of-type {\n",
       "        vertical-align: middle;\n",
       "    }\n",
       "\n",
       "    .dataframe tbody tr th {\n",
       "        vertical-align: top;\n",
       "    }\n",
       "\n",
       "    .dataframe thead th {\n",
       "        text-align: right;\n",
       "    }\n",
       "</style>\n",
       "<table border=\"1\" class=\"dataframe\">\n",
       "  <thead>\n",
       "    <tr style=\"text-align: right;\">\n",
       "      <th></th>\n",
       "      <th>id</th>\n",
       "      <th>common_name</th>\n",
       "      <th>scientific_name</th>\n",
       "      <th>other_name</th>\n",
       "      <th>family</th>\n",
       "      <th>origin</th>\n",
       "      <th>type</th>\n",
       "      <th>dimension</th>\n",
       "      <th>cycle</th>\n",
       "      <th>attracts</th>\n",
       "      <th>...</th>\n",
       "      <th>hardiness_location.full_url</th>\n",
       "      <th>hardiness_location.full_iframe</th>\n",
       "      <th>watering_general_benchmark.value</th>\n",
       "      <th>watering_general_benchmark.unit</th>\n",
       "      <th>depth_water_requirement.unit</th>\n",
       "      <th>depth_water_requirement.value</th>\n",
       "      <th>pruning_count.amount</th>\n",
       "      <th>pruning_count.interval</th>\n",
       "      <th>volume_water_requirement.unit</th>\n",
       "      <th>volume_water_requirement.value</th>\n",
       "    </tr>\n",
       "  </thead>\n",
       "  <tbody>\n",
       "    <tr>\n",
       "      <th>0</th>\n",
       "      <td>1</td>\n",
       "      <td>European Silver Fir</td>\n",
       "      <td>['Abies alba']</td>\n",
       "      <td>['Common Silver Fir']</td>\n",
       "      <td>NaN</td>\n",
       "      <td>['Austria', 'Germany', 'Switzerland', 'France'...</td>\n",
       "      <td>tree</td>\n",
       "      <td>Height:  60 feet</td>\n",
       "      <td>Perennial</td>\n",
       "      <td>[]</td>\n",
       "      <td>...</td>\n",
       "      <td>https://perenual.com/api/hardiness-map?species...</td>\n",
       "      <td>&lt;iframe frameborder=0 scrolling=yes seamless=s...</td>\n",
       "      <td>NaN</td>\n",
       "      <td>days</td>\n",
       "      <td>NaN</td>\n",
       "      <td>NaN</td>\n",
       "      <td>NaN</td>\n",
       "      <td>NaN</td>\n",
       "      <td>NaN</td>\n",
       "      <td>NaN</td>\n",
       "    </tr>\n",
       "    <tr>\n",
       "      <th>1</th>\n",
       "      <td>5</td>\n",
       "      <td>Fraser Fir</td>\n",
       "      <td>['Abies fraseri']</td>\n",
       "      <td>['Southern Fir']</td>\n",
       "      <td>Pinaceae</td>\n",
       "      <td>['Southeastern United States']</td>\n",
       "      <td>tree</td>\n",
       "      <td>Height:  35 feet</td>\n",
       "      <td>Perennial</td>\n",
       "      <td>[]</td>\n",
       "      <td>...</td>\n",
       "      <td>https://perenual.com/api/hardiness-map?species...</td>\n",
       "      <td>&lt;iframe frameborder=0 scrolling=yes seamless=s...</td>\n",
       "      <td>NaN</td>\n",
       "      <td>days</td>\n",
       "      <td>NaN</td>\n",
       "      <td>NaN</td>\n",
       "      <td>NaN</td>\n",
       "      <td>NaN</td>\n",
       "      <td>NaN</td>\n",
       "      <td>NaN</td>\n",
       "    </tr>\n",
       "    <tr>\n",
       "      <th>2</th>\n",
       "      <td>6</td>\n",
       "      <td>Golden Korean Fir</td>\n",
       "      <td>[\"Abies koreana 'Aurea'\"]</td>\n",
       "      <td>[]</td>\n",
       "      <td>Pinaceae</td>\n",
       "      <td>['North and South Korea']</td>\n",
       "      <td>tree</td>\n",
       "      <td>Height:  20 feet</td>\n",
       "      <td>Perennial</td>\n",
       "      <td>[]</td>\n",
       "      <td>...</td>\n",
       "      <td>https://perenual.com/api/hardiness-map?species...</td>\n",
       "      <td>&lt;iframe frameborder=0 scrolling=yes seamless=s...</td>\n",
       "      <td>NaN</td>\n",
       "      <td>days</td>\n",
       "      <td>NaN</td>\n",
       "      <td>NaN</td>\n",
       "      <td>NaN</td>\n",
       "      <td>NaN</td>\n",
       "      <td>NaN</td>\n",
       "      <td>NaN</td>\n",
       "    </tr>\n",
       "    <tr>\n",
       "      <th>3</th>\n",
       "      <td>8</td>\n",
       "      <td>Blue Spanish Fir</td>\n",
       "      <td>[\"Abies pinsapo 'Glauca'\"]</td>\n",
       "      <td>['Glaucous Spanish Fir']</td>\n",
       "      <td>Pinaceae</td>\n",
       "      <td>['Southern Spain']</td>\n",
       "      <td>tree</td>\n",
       "      <td>Height:  45 feet</td>\n",
       "      <td>Perennial</td>\n",
       "      <td>[]</td>\n",
       "      <td>...</td>\n",
       "      <td>https://perenual.com/api/hardiness-map?species...</td>\n",
       "      <td>&lt;iframe frameborder=0 scrolling=yes seamless=s...</td>\n",
       "      <td>NaN</td>\n",
       "      <td>days</td>\n",
       "      <td>inches</td>\n",
       "      <td>2</td>\n",
       "      <td>2.0</td>\n",
       "      <td>yearly</td>\n",
       "      <td>NaN</td>\n",
       "      <td>NaN</td>\n",
       "    </tr>\n",
       "    <tr>\n",
       "      <th>4</th>\n",
       "      <td>9</td>\n",
       "      <td>Noble Fir</td>\n",
       "      <td>['Abies procera']</td>\n",
       "      <td>['Red Fir', 'White Fir']</td>\n",
       "      <td>Pinaceae</td>\n",
       "      <td>['United States', 'Canada', 'Mexico', 'Central...</td>\n",
       "      <td>tree</td>\n",
       "      <td>Height:  90 feet</td>\n",
       "      <td>Perennial</td>\n",
       "      <td>['Squirrels', ' Birds']</td>\n",
       "      <td>...</td>\n",
       "      <td>https://perenual.com/api/hardiness-map?species...</td>\n",
       "      <td>&lt;iframe frameborder=0 scrolling=yes seamless=s...</td>\n",
       "      <td>NaN</td>\n",
       "      <td>days</td>\n",
       "      <td>NaN</td>\n",
       "      <td>NaN</td>\n",
       "      <td>NaN</td>\n",
       "      <td>NaN</td>\n",
       "      <td>NaN</td>\n",
       "      <td>NaN</td>\n",
       "    </tr>\n",
       "  </tbody>\n",
       "</table>\n",
       "<p>5 rows × 68 columns</p>\n",
       "</div>"
      ],
      "text/plain": [
       "   id          common_name             scientific_name  \\\n",
       "0   1  European Silver Fir              ['Abies alba']   \n",
       "1   5           Fraser Fir           ['Abies fraseri']   \n",
       "2   6    Golden Korean Fir   [\"Abies koreana 'Aurea'\"]   \n",
       "3   8     Blue Spanish Fir  [\"Abies pinsapo 'Glauca'\"]   \n",
       "4   9            Noble Fir           ['Abies procera']   \n",
       "\n",
       "                 other_name    family  \\\n",
       "0     ['Common Silver Fir']       NaN   \n",
       "1          ['Southern Fir']  Pinaceae   \n",
       "2                        []  Pinaceae   \n",
       "3  ['Glaucous Spanish Fir']  Pinaceae   \n",
       "4  ['Red Fir', 'White Fir']  Pinaceae   \n",
       "\n",
       "                                              origin  type         dimension  \\\n",
       "0  ['Austria', 'Germany', 'Switzerland', 'France'...  tree  Height:  60 feet   \n",
       "1                     ['Southeastern United States']  tree  Height:  35 feet   \n",
       "2                          ['North and South Korea']  tree  Height:  20 feet   \n",
       "3                                 ['Southern Spain']  tree  Height:  45 feet   \n",
       "4  ['United States', 'Canada', 'Mexico', 'Central...  tree  Height:  90 feet   \n",
       "\n",
       "       cycle                 attracts  ...  \\\n",
       "0  Perennial                       []  ...   \n",
       "1  Perennial                       []  ...   \n",
       "2  Perennial                       []  ...   \n",
       "3  Perennial                       []  ...   \n",
       "4  Perennial  ['Squirrels', ' Birds']  ...   \n",
       "\n",
       "                         hardiness_location.full_url  \\\n",
       "0  https://perenual.com/api/hardiness-map?species...   \n",
       "1  https://perenual.com/api/hardiness-map?species...   \n",
       "2  https://perenual.com/api/hardiness-map?species...   \n",
       "3  https://perenual.com/api/hardiness-map?species...   \n",
       "4  https://perenual.com/api/hardiness-map?species...   \n",
       "\n",
       "                      hardiness_location.full_iframe  \\\n",
       "0  <iframe frameborder=0 scrolling=yes seamless=s...   \n",
       "1  <iframe frameborder=0 scrolling=yes seamless=s...   \n",
       "2  <iframe frameborder=0 scrolling=yes seamless=s...   \n",
       "3  <iframe frameborder=0 scrolling=yes seamless=s...   \n",
       "4  <iframe frameborder=0 scrolling=yes seamless=s...   \n",
       "\n",
       "  watering_general_benchmark.value watering_general_benchmark.unit  \\\n",
       "0                              NaN                            days   \n",
       "1                              NaN                            days   \n",
       "2                              NaN                            days   \n",
       "3                              NaN                            days   \n",
       "4                              NaN                            days   \n",
       "\n",
       "  depth_water_requirement.unit depth_water_requirement.value  \\\n",
       "0                          NaN                           NaN   \n",
       "1                          NaN                           NaN   \n",
       "2                          NaN                           NaN   \n",
       "3                       inches                             2   \n",
       "4                          NaN                           NaN   \n",
       "\n",
       "  pruning_count.amount pruning_count.interval volume_water_requirement.unit  \\\n",
       "0                  NaN                    NaN                           NaN   \n",
       "1                  NaN                    NaN                           NaN   \n",
       "2                  NaN                    NaN                           NaN   \n",
       "3                  2.0                 yearly                           NaN   \n",
       "4                  NaN                    NaN                           NaN   \n",
       "\n",
       "  volume_water_requirement.value  \n",
       "0                            NaN  \n",
       "1                            NaN  \n",
       "2                            NaN  \n",
       "3                            NaN  \n",
       "4                            NaN  \n",
       "\n",
       "[5 rows x 68 columns]"
      ]
     },
     "execution_count": 688,
     "metadata": {},
     "output_type": "execute_result"
    }
   ],
   "source": [
    "plants = pd.read_csv('../data/raw/plant_details_all.csv')\n",
    "plants.head()"
   ]
  },
  {
   "cell_type": "code",
   "execution_count": 689,
   "metadata": {},
   "outputs": [
    {
     "name": "stdout",
     "output_type": "stream",
     "text": [
      "<class 'pandas.core.frame.DataFrame'>\n",
      "RangeIndex: 1839 entries, 0 to 1838\n",
      "Data columns (total 68 columns):\n",
      " #   Column                            Non-Null Count  Dtype  \n",
      "---  ------                            --------------  -----  \n",
      " 0   id                                1839 non-null   int64  \n",
      " 1   common_name                       1839 non-null   object \n",
      " 2   scientific_name                   1839 non-null   object \n",
      " 3   other_name                        1839 non-null   object \n",
      " 4   family                            1734 non-null   object \n",
      " 5   origin                            1839 non-null   object \n",
      " 6   type                              1834 non-null   object \n",
      " 7   dimension                         1839 non-null   object \n",
      " 8   cycle                             1839 non-null   object \n",
      " 9   attracts                          1839 non-null   object \n",
      " 10  propagation                       1839 non-null   object \n",
      " 11  watering                          1839 non-null   object \n",
      " 12  depth_water_requirement           1149 non-null   object \n",
      " 13  volume_water_requirement          1712 non-null   object \n",
      " 14  watering_period                   100 non-null    object \n",
      " 15  plant_anatomy                     1839 non-null   object \n",
      " 16  sunlight                          1839 non-null   object \n",
      " 17  pruning_month                     1778 non-null   object \n",
      " 18  pruning_count                     1221 non-null   object \n",
      " 19  seeds                             1813 non-null   object \n",
      " 20  maintenance                       1756 non-null   object \n",
      " 21  care-guides                       1839 non-null   object \n",
      " 22  soil                              1839 non-null   object \n",
      " 23  growth_rate                       1839 non-null   object \n",
      " 24  drought_tolerant                  1839 non-null   bool   \n",
      " 25  salt_tolerant                     1839 non-null   bool   \n",
      " 26  thorny                            1839 non-null   bool   \n",
      " 27  invasive                          1839 non-null   bool   \n",
      " 28  tropical                          1839 non-null   bool   \n",
      " 29  indoor                            1830 non-null   object \n",
      " 30  care_level                        1553 non-null   object \n",
      " 31  pest_susceptibility               1839 non-null   object \n",
      " 32  pest_susceptibility_api           1839 non-null   object \n",
      " 33  flowers                           1775 non-null   object \n",
      " 34  flowering_season                  421 non-null    object \n",
      " 35  flower_color                      1718 non-null   object \n",
      " 36  cones                             1839 non-null   bool   \n",
      " 37  fruits                            1839 non-null   bool   \n",
      " 38  edible_fruit                      1839 non-null   object \n",
      " 39  edible_fruit_taste_profile        1839 non-null   object \n",
      " 40  fruit_nutritional_value           1839 non-null   object \n",
      " 41  fruit_color                       1792 non-null   object \n",
      " 42  harvest_season                    557 non-null    object \n",
      " 43  leaf                              1839 non-null   object \n",
      " 44  leaf_color                        1839 non-null   object \n",
      " 45  edible_leaf                       1839 non-null   bool   \n",
      " 46  cuisine                           1839 non-null   bool   \n",
      " 47  medicinal                         1839 non-null   bool   \n",
      " 48  poisonous_to_humans               1839 non-null   bool   \n",
      " 49  poisonous_to_pets                 1839 non-null   object \n",
      " 50  description                       1831 non-null   object \n",
      " 51  other_images                      1839 non-null   object \n",
      " 52  dimensions.type                   245 non-null    object \n",
      " 53  dimensions.min_value              1839 non-null   float64\n",
      " 54  dimensions.max_value              1839 non-null   object \n",
      " 55  dimensions.unit                   1839 non-null   object \n",
      " 56  hardiness.min                     1836 non-null   float64\n",
      " 57  hardiness.max                     1836 non-null   object \n",
      " 58  hardiness_location.full_url       1839 non-null   object \n",
      " 59  hardiness_location.full_iframe    1780 non-null   object \n",
      " 60  watering_general_benchmark.value  51 non-null     float64\n",
      " 61  watering_general_benchmark.unit   1739 non-null   object \n",
      " 62  depth_water_requirement.unit      738 non-null    object \n",
      " 63  depth_water_requirement.value     696 non-null    object \n",
      " 64  pruning_count.amount              592 non-null    float64\n",
      " 65  pruning_count.interval            657 non-null    object \n",
      " 66  volume_water_requirement.unit     97 non-null     object \n",
      " 67  volume_water_requirement.value    27 non-null     float64\n",
      "dtypes: bool(11), float64(5), int64(1), object(51)\n",
      "memory usage: 838.8+ KB\n"
     ]
    }
   ],
   "source": [
    "plants.info()"
   ]
  },
  {
   "cell_type": "code",
   "execution_count": 690,
   "metadata": {},
   "outputs": [
    {
     "data": {
      "text/plain": [
       "(1839, 68)"
      ]
     },
     "execution_count": 690,
     "metadata": {},
     "output_type": "execute_result"
    }
   ],
   "source": [
    "plants.shape"
   ]
  },
  {
   "cell_type": "code",
   "execution_count": 691,
   "metadata": {},
   "outputs": [],
   "source": [
    "# Faisons une première sélection des colonnes qui semblent pertinentes pour notre recommendation de plantes :\n",
    "\n",
    "relevant_features = ['common_name', 'scientific_name', 'type', 'soil', 'cycle', 'attracts', 'watering',     \n",
    "                     'maintenance', 'care_level', 'sunlight', 'growth_rate', 'drought_tolerant',  \n",
    "                     'salt_tolerant', 'thorny', 'poisonous_to_humans', 'poisonous_to_pets', 'invasive', 'edible_fruit', 'medicinal',\n",
    "                     'hardiness.min', 'hardiness.max']"
   ]
  },
  {
   "cell_type": "code",
   "execution_count": 692,
   "metadata": {},
   "outputs": [],
   "source": [
    "plants_selection = plants[relevant_features]"
   ]
  },
  {
   "cell_type": "markdown",
   "metadata": {},
   "source": [
    "## Analyse colonne \"Maintenance\" :"
   ]
  },
  {
   "cell_type": "code",
   "execution_count": 693,
   "metadata": {},
   "outputs": [
    {
     "data": {
      "text/plain": [
       "common_name              0\n",
       "scientific_name          0\n",
       "type                     5\n",
       "soil                     0\n",
       "cycle                    0\n",
       "attracts                 0\n",
       "watering                 0\n",
       "maintenance             83\n",
       "care_level             286\n",
       "sunlight                 0\n",
       "growth_rate              0\n",
       "drought_tolerant         0\n",
       "salt_tolerant            0\n",
       "thorny                   0\n",
       "poisonous_to_humans      0\n",
       "poisonous_to_pets        0\n",
       "invasive                 0\n",
       "edible_fruit             0\n",
       "medicinal                0\n",
       "hardiness.min            3\n",
       "hardiness.max            3\n",
       "dtype: int64"
      ]
     },
     "execution_count": 693,
     "metadata": {},
     "output_type": "execute_result"
    }
   ],
   "source": [
    "plants_selection.isnull().sum() # Choisir entre colonne \"maintenance\" et \"care_level\" : \"maintenance car moins de valeurs manquantes\""
   ]
  },
  {
   "cell_type": "code",
   "execution_count": 694,
   "metadata": {},
   "outputs": [
    {
     "data": {
      "text/plain": [
       "maintenance\n",
       "low                                                                                            1088\n",
       "moderate                                                                                        521\n",
       "high                                                                                             47\n",
       "http://perenual.com/api/species-care-guide-list?species_id=128&key=sk-hwmo67d1db5d934599114       1\n",
       "http://perenual.com/api/species-care-guide-list?species_id=129&key=sk-hwmo67d1db5d934599114       1\n",
       "                                                                                               ... \n",
       "http://perenual.com/api/species-care-guide-list?species_id=339&key=sk-hwmo67d1db5d934599114       1\n",
       "http://perenual.com/api/species-care-guide-list?species_id=341&key=sk-hwmo67d1db5d934599114       1\n",
       "http://perenual.com/api/species-care-guide-list?species_id=342&key=sk-hwmo67d1db5d934599114       1\n",
       "http://perenual.com/api/species-care-guide-list?species_id=343&key=sk-hwmo67d1db5d934599114       1\n",
       "http://perenual.com/api/species-care-guide-list?species_id=346&key=sk-hwmo67d1db5d934599114       1\n",
       "Name: count, Length: 103, dtype: int64"
      ]
     },
     "execution_count": 694,
     "metadata": {},
     "output_type": "execute_result"
    }
   ],
   "source": [
    "plants_selection.loc[:,'maintenance'] = plants_selection['maintenance'].str.lower()\n",
    "plants_selection['maintenance'].value_counts()"
   ]
  },
  {
   "cell_type": "code",
   "execution_count": 695,
   "metadata": {},
   "outputs": [
    {
     "data": {
      "text/plain": [
       "care_level\n",
       "medium                                                                                                                                                                                                1139\n",
       "moderate                                                                                                                                                                                               193\n",
       "low                                                                                                                                                                                                     60\n",
       "[]                                                                                                                                                                                                      47\n",
       "high                                                                                                                                                                                                    35\n",
       "easy                                                                                                                                                                                                    26\n",
       "['rodents', '  pest resistant', ' disease resistant ']                                                                                                                                                   8\n",
       "['pest resistant', ' disease resistant']                                                                                                                                                                 7\n",
       "['blight', 'needle cast', ' canker', 'sap rot', ' diptera - true flies', '  drought resistant ']                                                                                                         6\n",
       "['anthracnose', ' canker', 'sap rot', ' diptera - true flies', ' fungal leaf spot', ' mildew', ' nematodes', ' root rot', ' scale insects', ' stem borer insects', ' thrips', '  deer resistant ']       6\n",
       "['diptera - true flies', ' leaf miner insect', ' stem borer insects']                                                                                                                                    5\n",
       "['deer resistant', ' drought resistant']                                                                                                                                                                 3\n",
       "['blight', 'needle cast', '  pest resistant', ' disease resistant', ' drought resistant ']                                                                                                               3\n",
       "['anthracnose', ' nematodes', ' root rot', ' scale insects', ' stem borer insects', ' thrips', '  deer resistant', ' drought resistant ']                                                                3\n",
       "['dieback', ' root rot', ' wilt', '  pest resistant', ' disease resistant', ' drought resistant ']                                                                                                       2\n",
       "['pest resistant', ' rabbit resistant']                                                                                                                                                                  2\n",
       "['fungal leaf spot', ' root rot']                                                                                                                                                                        1\n",
       "['root rot', ' scale insects', '  pest resistant', ' disease resistant', ' deer resistant', ' rabbit resistant ']                                                                                        1\n",
       "['aphids', 'adelgids', ' bacterial leaf spot', ' mites', '  deer resistant ']                                                                                                                            1\n",
       "['blight', 'needle cast', ' caterpillar', 'cutworm', ' mites', ' root rot', ' scale insects', '  pest resistant', ' disease resistant ']                                                                 1\n",
       "['anthracnose', '  deer resistant', ' rabbit resistant ']                                                                                                                                                1\n",
       "['fungal leaf spot', ' root rot', '  deer resistant ']                                                                                                                                                   1\n",
       "['fungal leaf spot', ' root rot', ' scale insects', '  drought resistant ']                                                                                                                              1\n",
       "['fungal leaf spot', '  pest resistant', ' rabbit resistant', ' drought resistant ']                                                                                                                     1\n",
       "Name: count, dtype: int64"
      ]
     },
     "execution_count": 695,
     "metadata": {},
     "output_type": "execute_result"
    }
   ],
   "source": [
    "plants_selection.loc[:,'care_level'] = plants_selection['care_level'].str.lower()\n",
    "plants_selection['care_level'].value_counts()"
   ]
  },
  {
   "cell_type": "code",
   "execution_count": 696,
   "metadata": {},
   "outputs": [
    {
     "name": "stdout",
     "output_type": "stream",
     "text": [
      "10.0% des données autres que Low, Moderate, High\n"
     ]
    }
   ],
   "source": [
    "maintenance_level = ['low', 'moderate', 'high']\n",
    "\n",
    "print(f\"{(plants_selection.loc[~plants_selection['maintenance'].isin(maintenance_level)].shape[0]/plants_selection.shape[0]):.1%} des données autres que Low, Moderate, High\")\n",
    "\n",
    "# On les remplace par np.nan\n",
    "plants_selection.loc[~plants_selection['maintenance'].isin(maintenance_level), 'maintenance'] = np.nan"
   ]
  },
  {
   "cell_type": "code",
   "execution_count": 697,
   "metadata": {},
   "outputs": [
    {
     "data": {
      "text/plain": [
       "common_name              0\n",
       "scientific_name          0\n",
       "type                     5\n",
       "soil                     0\n",
       "cycle                    0\n",
       "attracts                 0\n",
       "watering                 0\n",
       "maintenance            183\n",
       "care_level             286\n",
       "sunlight                 0\n",
       "growth_rate              0\n",
       "drought_tolerant         0\n",
       "salt_tolerant            0\n",
       "thorny                   0\n",
       "poisonous_to_humans      0\n",
       "poisonous_to_pets        0\n",
       "invasive                 0\n",
       "edible_fruit             0\n",
       "medicinal                0\n",
       "hardiness.min            3\n",
       "hardiness.max            3\n",
       "dtype: int64"
      ]
     },
     "execution_count": 697,
     "metadata": {},
     "output_type": "execute_result"
    }
   ],
   "source": [
    "plants_selection.isnull().sum()"
   ]
  },
  {
   "cell_type": "code",
   "execution_count": 698,
   "metadata": {},
   "outputs": [
    {
     "data": {
      "text/html": [
       "<div>\n",
       "<style scoped>\n",
       "    .dataframe tbody tr th:only-of-type {\n",
       "        vertical-align: middle;\n",
       "    }\n",
       "\n",
       "    .dataframe tbody tr th {\n",
       "        vertical-align: top;\n",
       "    }\n",
       "\n",
       "    .dataframe thead th {\n",
       "        text-align: right;\n",
       "    }\n",
       "</style>\n",
       "<table border=\"1\" class=\"dataframe\">\n",
       "  <thead>\n",
       "    <tr style=\"text-align: right;\">\n",
       "      <th></th>\n",
       "      <th>maintenance</th>\n",
       "      <th>care_level</th>\n",
       "    </tr>\n",
       "  </thead>\n",
       "  <tbody>\n",
       "    <tr>\n",
       "      <th>0</th>\n",
       "      <td>NaN</td>\n",
       "      <td>medium</td>\n",
       "    </tr>\n",
       "    <tr>\n",
       "      <th>4</th>\n",
       "      <td>NaN</td>\n",
       "      <td>medium</td>\n",
       "    </tr>\n",
       "    <tr>\n",
       "      <th>5</th>\n",
       "      <td>NaN</td>\n",
       "      <td>medium</td>\n",
       "    </tr>\n",
       "    <tr>\n",
       "      <th>9</th>\n",
       "      <td>NaN</td>\n",
       "      <td>high</td>\n",
       "    </tr>\n",
       "    <tr>\n",
       "      <th>10</th>\n",
       "      <td>NaN</td>\n",
       "      <td>medium</td>\n",
       "    </tr>\n",
       "    <tr>\n",
       "      <th>...</th>\n",
       "      <td>...</td>\n",
       "      <td>...</td>\n",
       "    </tr>\n",
       "    <tr>\n",
       "      <th>203</th>\n",
       "      <td>NaN</td>\n",
       "      <td>medium</td>\n",
       "    </tr>\n",
       "    <tr>\n",
       "      <th>205</th>\n",
       "      <td>NaN</td>\n",
       "      <td>medium</td>\n",
       "    </tr>\n",
       "    <tr>\n",
       "      <th>206</th>\n",
       "      <td>NaN</td>\n",
       "      <td>medium</td>\n",
       "    </tr>\n",
       "    <tr>\n",
       "      <th>208</th>\n",
       "      <td>NaN</td>\n",
       "      <td>medium</td>\n",
       "    </tr>\n",
       "    <tr>\n",
       "      <th>212</th>\n",
       "      <td>NaN</td>\n",
       "      <td>medium</td>\n",
       "    </tr>\n",
       "  </tbody>\n",
       "</table>\n",
       "<p>70 rows × 2 columns</p>\n",
       "</div>"
      ],
      "text/plain": [
       "    maintenance care_level\n",
       "0           NaN     medium\n",
       "4           NaN     medium\n",
       "5           NaN     medium\n",
       "9           NaN       high\n",
       "10          NaN     medium\n",
       "..          ...        ...\n",
       "203         NaN     medium\n",
       "205         NaN     medium\n",
       "206         NaN     medium\n",
       "208         NaN     medium\n",
       "212         NaN     medium\n",
       "\n",
       "[70 rows x 2 columns]"
      ]
     },
     "execution_count": 698,
     "metadata": {},
     "output_type": "execute_result"
    }
   ],
   "source": [
    "# Imputation : sur les 183 valeurs manquantes dans la colonne 'maintenance', 70 peuvent être remplis en utilisant la colonne 'care_level'\n",
    "maintenance_null = (plants_selection['maintenance'].isnull())\n",
    "care_level_not_null = (~plants_selection['care_level'].isnull())\n",
    "care_level_ok = (plants_selection['care_level'].isin(['medium', 'moderate', 'high', 'low', 'easy']))\n",
    "\n",
    "maintenance_care = plants_selection.loc[maintenance_null & care_level_not_null & care_level_ok, ['maintenance', 'care_level']]\n",
    "maintenance_care"
   ]
  },
  {
   "cell_type": "code",
   "execution_count": 699,
   "metadata": {},
   "outputs": [
    {
     "data": {
      "text/plain": [
       "watering\n",
       "average     1205\n",
       "minimum      428\n",
       "frequent     206\n",
       "Name: count, dtype: int64"
      ]
     },
     "execution_count": 699,
     "metadata": {},
     "output_type": "execute_result"
    }
   ],
   "source": [
    "# Les autres colonnes peuvent être remplis en utilisant la colonne 'watering' : Average -> Moderate, Minimum -> Low, 'Frequent' -> High\n",
    "plants_selection.loc[:,'watering'] = plants_selection['watering'].str.lower()\n",
    "plants_selection['watering'].value_counts()"
   ]
  },
  {
   "cell_type": "code",
   "execution_count": 700,
   "metadata": {},
   "outputs": [
    {
     "data": {
      "text/html": [
       "<div>\n",
       "<style scoped>\n",
       "    .dataframe tbody tr th:only-of-type {\n",
       "        vertical-align: middle;\n",
       "    }\n",
       "\n",
       "    .dataframe tbody tr th {\n",
       "        vertical-align: top;\n",
       "    }\n",
       "\n",
       "    .dataframe thead th {\n",
       "        text-align: right;\n",
       "    }\n",
       "</style>\n",
       "<table border=\"1\" class=\"dataframe\">\n",
       "  <thead>\n",
       "    <tr style=\"text-align: right;\">\n",
       "      <th></th>\n",
       "      <th>maintenance</th>\n",
       "      <th>care_level</th>\n",
       "      <th>watering</th>\n",
       "    </tr>\n",
       "  </thead>\n",
       "  <tbody>\n",
       "    <tr>\n",
       "      <th>11</th>\n",
       "      <td>NaN</td>\n",
       "      <td>NaN</td>\n",
       "      <td>average</td>\n",
       "    </tr>\n",
       "    <tr>\n",
       "      <th>19</th>\n",
       "      <td>NaN</td>\n",
       "      <td>NaN</td>\n",
       "      <td>average</td>\n",
       "    </tr>\n",
       "    <tr>\n",
       "      <th>29</th>\n",
       "      <td>NaN</td>\n",
       "      <td>NaN</td>\n",
       "      <td>frequent</td>\n",
       "    </tr>\n",
       "    <tr>\n",
       "      <th>38</th>\n",
       "      <td>NaN</td>\n",
       "      <td>NaN</td>\n",
       "      <td>frequent</td>\n",
       "    </tr>\n",
       "    <tr>\n",
       "      <th>40</th>\n",
       "      <td>NaN</td>\n",
       "      <td>NaN</td>\n",
       "      <td>frequent</td>\n",
       "    </tr>\n",
       "    <tr>\n",
       "      <th>...</th>\n",
       "      <td>...</td>\n",
       "      <td>...</td>\n",
       "      <td>...</td>\n",
       "    </tr>\n",
       "    <tr>\n",
       "      <th>197</th>\n",
       "      <td>NaN</td>\n",
       "      <td>['diptera - true flies', ' leaf miner insect',...</td>\n",
       "      <td>average</td>\n",
       "    </tr>\n",
       "    <tr>\n",
       "      <th>198</th>\n",
       "      <td>NaN</td>\n",
       "      <td>['diptera - true flies', ' leaf miner insect',...</td>\n",
       "      <td>average</td>\n",
       "    </tr>\n",
       "    <tr>\n",
       "      <th>199</th>\n",
       "      <td>NaN</td>\n",
       "      <td>['pest resistant', ' disease resistant']</td>\n",
       "      <td>average</td>\n",
       "    </tr>\n",
       "    <tr>\n",
       "      <th>204</th>\n",
       "      <td>NaN</td>\n",
       "      <td>NaN</td>\n",
       "      <td>frequent</td>\n",
       "    </tr>\n",
       "    <tr>\n",
       "      <th>348</th>\n",
       "      <td>NaN</td>\n",
       "      <td>NaN</td>\n",
       "      <td>average</td>\n",
       "    </tr>\n",
       "  </tbody>\n",
       "</table>\n",
       "<p>113 rows × 3 columns</p>\n",
       "</div>"
      ],
      "text/plain": [
       "    maintenance                                         care_level  watering\n",
       "11          NaN                                                NaN   average\n",
       "19          NaN                                                NaN   average\n",
       "29          NaN                                                NaN  frequent\n",
       "38          NaN                                                NaN  frequent\n",
       "40          NaN                                                NaN  frequent\n",
       "..          ...                                                ...       ...\n",
       "197         NaN  ['diptera - true flies', ' leaf miner insect',...   average\n",
       "198         NaN  ['diptera - true flies', ' leaf miner insect',...   average\n",
       "199         NaN           ['pest resistant', ' disease resistant']   average\n",
       "204         NaN                                                NaN  frequent\n",
       "348         NaN                                                NaN   average\n",
       "\n",
       "[113 rows x 3 columns]"
      ]
     },
     "execution_count": 700,
     "metadata": {},
     "output_type": "execute_result"
    }
   ],
   "source": [
    "plants_selection.loc[maintenance_null & ~(care_level_not_null & care_level_ok), ['maintenance', 'care_level', 'watering']]"
   ]
  },
  {
   "cell_type": "code",
   "execution_count": 701,
   "metadata": {},
   "outputs": [],
   "source": [
    "def impute_with_care_level(x):\n",
    "    match x:\n",
    "        case \"medium\":\n",
    "            return \"moderate\"\n",
    "        case \"easy\":\n",
    "            return \"low\"\n",
    "        case _:\n",
    "            return x\n",
    "    \n",
    "def impute_with_watering(x):\n",
    "    match x: \n",
    "        case \"average\":\n",
    "            return \"moderate\"\n",
    "        case \"minimum\":\n",
    "            return \"low\"\n",
    "        case \"frequent\":\n",
    "            return \"high\"\n",
    "        case _: \n",
    "            return x\n",
    "\n",
    "mask = maintenance_null & care_level_not_null & care_level_ok\n",
    "mask_ = maintenance_null & ~(care_level_not_null & care_level_ok)\n",
    "plants_selection.loc[mask, 'maintenance'] = plants_selection.loc[mask, 'care_level'].apply(lambda x: impute_with_care_level(x))\n",
    "plants_selection.loc[mask_, 'maintenance'] = plants_selection.loc[mask_, 'watering'].apply(lambda x: impute_with_watering(x))"
   ]
  },
  {
   "cell_type": "code",
   "execution_count": 702,
   "metadata": {},
   "outputs": [
    {
     "data": {
      "text/plain": [
       "maintenance\n",
       "low         1093\n",
       "moderate     674\n",
       "high          72\n",
       "Name: count, dtype: int64"
      ]
     },
     "execution_count": 702,
     "metadata": {},
     "output_type": "execute_result"
    }
   ],
   "source": [
    "# On vérifie qu'on a bien que modalité : \"High, Low, Moderate\":\n",
    "plants_selection['maintenance'].value_counts()"
   ]
  },
  {
   "cell_type": "code",
   "execution_count": 703,
   "metadata": {},
   "outputs": [
    {
     "data": {
      "text/plain": [
       "np.int64(0)"
      ]
     },
     "execution_count": 703,
     "metadata": {},
     "output_type": "execute_result"
    }
   ],
   "source": [
    "# Nombre de valeurs manquantes restantes\n",
    "plants_selection.isnull().sum()['maintenance']"
   ]
  },
  {
   "cell_type": "code",
   "execution_count": 704,
   "metadata": {},
   "outputs": [],
   "source": [
    "# On supprime les colonnes 'care_level' et  'watering'\n",
    "plants_selection = plants_selection.drop(columns=['care_level', 'watering'])"
   ]
  },
  {
   "cell_type": "code",
   "execution_count": 705,
   "metadata": {},
   "outputs": [
    {
     "data": {
      "text/plain": [
       "common_name            0\n",
       "scientific_name        0\n",
       "type                   5\n",
       "soil                   0\n",
       "cycle                  0\n",
       "attracts               0\n",
       "maintenance            0\n",
       "sunlight               0\n",
       "growth_rate            0\n",
       "drought_tolerant       0\n",
       "salt_tolerant          0\n",
       "thorny                 0\n",
       "poisonous_to_humans    0\n",
       "poisonous_to_pets      0\n",
       "invasive               0\n",
       "edible_fruit           0\n",
       "medicinal              0\n",
       "hardiness.min          3\n",
       "hardiness.max          3\n",
       "dtype: int64"
      ]
     },
     "execution_count": 705,
     "metadata": {},
     "output_type": "execute_result"
    }
   ],
   "source": [
    "plants_selection.isnull().sum()"
   ]
  },
  {
   "cell_type": "markdown",
   "metadata": {},
   "source": [
    "## Analyse colonne \"Type\""
   ]
  },
  {
   "cell_type": "code",
   "execution_count": 706,
   "metadata": {},
   "outputs": [
    {
     "data": {
      "text/plain": [
       "type\n",
       "tree                   0.176663\n",
       "herb                   0.156489\n",
       "flower                 0.140676\n",
       "deciduous shrub        0.118866\n",
       "broadleaf evergreen    0.091603\n",
       "shrub                  0.073610\n",
       "bulb                   0.048528\n",
       "fern                   0.044166\n",
       "ornamental grass       0.020174\n",
       "vine                   0.012541\n",
       "begonia                0.012541\n",
       "vegetable              0.011450\n",
       "cactus                 0.011450\n",
       "coneflower             0.010360\n",
       "needled evergreen      0.008724\n",
       "rush or sedge          0.008724\n",
       "turfgrass              0.006543\n",
       "fruit                  0.005453\n",
       "palm or cycad          0.004907\n",
       "aster                  0.004362\n",
       "thistle                0.003817\n",
       "carnivorous            0.003272\n",
       "creeper                0.003272\n",
       "orchid                 0.002726\n",
       "weed                   0.002726\n",
       "euphorbia              0.002181\n",
       "thrift                 0.001091\n",
       "bush                   0.001091\n",
       "carnation              0.001091\n",
       "herbs                  0.001091\n",
       "astilbe                0.001091\n",
       "bergenia               0.001091\n",
       "dahlia                 0.001091\n",
       "dianthus               0.001091\n",
       "grass                  0.000545\n",
       "reed                   0.000545\n",
       "delphinium             0.000545\n",
       "reeds                  0.000545\n",
       "aquatic                0.000545\n",
       "iridaceae              0.000545\n",
       "creepers               0.000545\n",
       "daisy                  0.000545\n",
       "bamboo                 0.000545\n",
       "poales (grass-like)    0.000545\n",
       "Name: proportion, dtype: float64"
      ]
     },
     "execution_count": 706,
     "metadata": {},
     "output_type": "execute_result"
    }
   ],
   "source": [
    "plants_selection.loc[:,'type'] = plants_selection['type'].str.lower()\n",
    "plants_selection['type'].value_counts(normalize=True)"
   ]
  },
  {
   "cell_type": "code",
   "execution_count": 707,
   "metadata": {},
   "outputs": [],
   "source": [
    "# On regroupe les types en quelques grandes catégories pour permettre à l'utilisateur de choisir : \n",
    "\n",
    "fleurs = ['flower', 'bulb', 'orchid','begonia', 'dahlia', 'iridaceae', 'daisy', 'bergenia', \n",
    "          'coneflower', 'aster', 'thistle', 'thrift', 'carnation', 'astilbe', 'dianthus', 'delphinium', 'aquatic', 'carnivorous']\n",
    "arbres = [\"tree\", \"broadleaf evergreen\", \"needled evergreen\", \"bamboo\"]\n",
    "herbes = ['herb', 'herbs', 'grass', 'poales (grass-like)', 'weed', 'ornamental grass', 'rush or sedge', 'turfgrass', 'reed', 'reeds', 'fern']\n",
    "arbustes = ['deciduous shrub', 'shrub', 'bush', 'palm or cycad']\n",
    "potager = ['vegetable', 'fruit']\n",
    "plantes_grimpantes = ['vine', 'creeper', 'creepers']\n",
    "succulentes = ['cactus', 'euphorbia']       "
   ]
  },
  {
   "cell_type": "code",
   "execution_count": 708,
   "metadata": {},
   "outputs": [],
   "source": [
    "# Faire dico pour lier type avec nouvelles catégories.\n",
    "\n",
    "type_dict = {'fleurs': fleurs, 'arbres': arbres, 'herbes': herbes, \"arbustes\": arbustes, \"potager\": potager, \"plantes_grimpantes\": plantes_grimpantes, \"succulentes\": succulentes}\n",
    "big_dict = {}\n",
    "for key, value in type_dict.items():\n",
    "    big_dict.update({plant:key for plant in value})"
   ]
  },
  {
   "cell_type": "code",
   "execution_count": 709,
   "metadata": {},
   "outputs": [],
   "source": [
    "plants_selection.loc[:, 'type'] = plants_selection['type'].apply(lambda x: big_dict[x] if x in big_dict.keys() else x)"
   ]
  },
  {
   "cell_type": "code",
   "execution_count": 710,
   "metadata": {},
   "outputs": [
    {
     "data": {
      "text/plain": [
       "type\n",
       "arbres                509\n",
       "herbes                444\n",
       "fleurs                431\n",
       "arbustes              364\n",
       "potager                31\n",
       "plantes_grimpantes     30\n",
       "succulentes            25\n",
       "Name: count, dtype: int64"
      ]
     },
     "execution_count": 710,
     "metadata": {},
     "output_type": "execute_result"
    }
   ],
   "source": [
    "plants_selection['type'].value_counts()"
   ]
  },
  {
   "cell_type": "code",
   "execution_count": 711,
   "metadata": {},
   "outputs": [
    {
     "data": {
      "text/html": [
       "<div>\n",
       "<style scoped>\n",
       "    .dataframe tbody tr th:only-of-type {\n",
       "        vertical-align: middle;\n",
       "    }\n",
       "\n",
       "    .dataframe tbody tr th {\n",
       "        vertical-align: top;\n",
       "    }\n",
       "\n",
       "    .dataframe thead th {\n",
       "        text-align: right;\n",
       "    }\n",
       "</style>\n",
       "<table border=\"1\" class=\"dataframe\">\n",
       "  <thead>\n",
       "    <tr style=\"text-align: right;\">\n",
       "      <th></th>\n",
       "      <th>common_name</th>\n",
       "      <th>scientific_name</th>\n",
       "      <th>type</th>\n",
       "      <th>soil</th>\n",
       "      <th>cycle</th>\n",
       "      <th>attracts</th>\n",
       "      <th>maintenance</th>\n",
       "      <th>sunlight</th>\n",
       "      <th>growth_rate</th>\n",
       "      <th>drought_tolerant</th>\n",
       "      <th>salt_tolerant</th>\n",
       "      <th>thorny</th>\n",
       "      <th>poisonous_to_humans</th>\n",
       "      <th>poisonous_to_pets</th>\n",
       "      <th>invasive</th>\n",
       "      <th>edible_fruit</th>\n",
       "      <th>medicinal</th>\n",
       "      <th>hardiness.min</th>\n",
       "      <th>hardiness.max</th>\n",
       "    </tr>\n",
       "  </thead>\n",
       "  <tbody>\n",
       "    <tr>\n",
       "      <th>336</th>\n",
       "      <td>asparagus</td>\n",
       "      <td>['Asparagus officinalis']</td>\n",
       "      <td>NaN</td>\n",
       "      <td>[]</td>\n",
       "      <td>Herbaceous Perennial</td>\n",
       "      <td>[]</td>\n",
       "      <td>low</td>\n",
       "      <td>['Full sun']</td>\n",
       "      <td>High</td>\n",
       "      <td>False</td>\n",
       "      <td>True</td>\n",
       "      <td>False</td>\n",
       "      <td>False</td>\n",
       "      <td>FALSE</td>\n",
       "      <td>False</td>\n",
       "      <td>TRUE</td>\n",
       "      <td>True</td>\n",
       "      <td>3.0</td>\n",
       "      <td>10</td>\n",
       "    </tr>\n",
       "    <tr>\n",
       "      <th>483</th>\n",
       "      <td>false indigo</td>\n",
       "      <td>[\"Baptisia 'Carolina Moonlight'\"]</td>\n",
       "      <td>NaN</td>\n",
       "      <td>[]</td>\n",
       "      <td>Herbaceous Perennial</td>\n",
       "      <td>['Butterflies']</td>\n",
       "      <td>low</td>\n",
       "      <td>['Full sun', 'part shade']</td>\n",
       "      <td>Low</td>\n",
       "      <td>True</td>\n",
       "      <td>False</td>\n",
       "      <td>False</td>\n",
       "      <td>False</td>\n",
       "      <td>FALSE</td>\n",
       "      <td>False</td>\n",
       "      <td>FALSE</td>\n",
       "      <td>True</td>\n",
       "      <td>4.0</td>\n",
       "      <td>9</td>\n",
       "    </tr>\n",
       "    <tr>\n",
       "      <th>627</th>\n",
       "      <td>rutabaga</td>\n",
       "      <td>['Brassica napus (Napobrassica Group)']</td>\n",
       "      <td>NaN</td>\n",
       "      <td>[]</td>\n",
       "      <td>Annual</td>\n",
       "      <td>[]</td>\n",
       "      <td>low</td>\n",
       "      <td>['full sun', 'part shade']</td>\n",
       "      <td>Low</td>\n",
       "      <td>False</td>\n",
       "      <td>True</td>\n",
       "      <td>False</td>\n",
       "      <td>False</td>\n",
       "      <td>FALSE</td>\n",
       "      <td>False</td>\n",
       "      <td>FALSE</td>\n",
       "      <td>False</td>\n",
       "      <td>2.0</td>\n",
       "      <td>11</td>\n",
       "    </tr>\n",
       "    <tr>\n",
       "      <th>1331</th>\n",
       "      <td>common foxglove</td>\n",
       "      <td>[\"Digitalis purpurea 'Sutton's Apricot'\"]</td>\n",
       "      <td>NaN</td>\n",
       "      <td>['Humus rich', ' Well-drained']</td>\n",
       "      <td>Herbaceous Perennial</td>\n",
       "      <td>['Hummingbirds']</td>\n",
       "      <td>low</td>\n",
       "      <td>['Part sun/part shade']</td>\n",
       "      <td>High</td>\n",
       "      <td>False</td>\n",
       "      <td>False</td>\n",
       "      <td>False</td>\n",
       "      <td>True</td>\n",
       "      <td>TRUE</td>\n",
       "      <td>False</td>\n",
       "      <td>FALSE</td>\n",
       "      <td>True</td>\n",
       "      <td>4.0</td>\n",
       "      <td>8</td>\n",
       "    </tr>\n",
       "    <tr>\n",
       "      <th>1511</th>\n",
       "      <td>coneflower</td>\n",
       "      <td>[\"Echinacea 'Secret Lust'\"]</td>\n",
       "      <td>NaN</td>\n",
       "      <td>[]</td>\n",
       "      <td>Herbaceous Perennial</td>\n",
       "      <td>['Birds', ' Butterflies']</td>\n",
       "      <td>low</td>\n",
       "      <td>['Full sun', 'part shade']</td>\n",
       "      <td>High</td>\n",
       "      <td>True</td>\n",
       "      <td>False</td>\n",
       "      <td>False</td>\n",
       "      <td>False</td>\n",
       "      <td>FALSE</td>\n",
       "      <td>False</td>\n",
       "      <td>FALSE</td>\n",
       "      <td>True</td>\n",
       "      <td>3.0</td>\n",
       "      <td>8</td>\n",
       "    </tr>\n",
       "  </tbody>\n",
       "</table>\n",
       "</div>"
      ],
      "text/plain": [
       "          common_name                            scientific_name type  \\\n",
       "336         asparagus                  ['Asparagus officinalis']  NaN   \n",
       "483      false indigo          [\"Baptisia 'Carolina Moonlight'\"]  NaN   \n",
       "627          rutabaga    ['Brassica napus (Napobrassica Group)']  NaN   \n",
       "1331  common foxglove  [\"Digitalis purpurea 'Sutton's Apricot'\"]  NaN   \n",
       "1511       coneflower                [\"Echinacea 'Secret Lust'\"]  NaN   \n",
       "\n",
       "                                 soil                 cycle  \\\n",
       "336                                []  Herbaceous Perennial   \n",
       "483                                []  Herbaceous Perennial   \n",
       "627                                []                Annual   \n",
       "1331  ['Humus rich', ' Well-drained']  Herbaceous Perennial   \n",
       "1511                               []  Herbaceous Perennial   \n",
       "\n",
       "                       attracts maintenance                    sunlight  \\\n",
       "336                          []         low                ['Full sun']   \n",
       "483             ['Butterflies']         low  ['Full sun', 'part shade']   \n",
       "627                          []         low  ['full sun', 'part shade']   \n",
       "1331           ['Hummingbirds']         low     ['Part sun/part shade']   \n",
       "1511  ['Birds', ' Butterflies']         low  ['Full sun', 'part shade']   \n",
       "\n",
       "     growth_rate  drought_tolerant  salt_tolerant  thorny  \\\n",
       "336         High             False           True   False   \n",
       "483          Low              True          False   False   \n",
       "627          Low             False           True   False   \n",
       "1331        High             False          False   False   \n",
       "1511        High              True          False   False   \n",
       "\n",
       "      poisonous_to_humans poisonous_to_pets  invasive edible_fruit  medicinal  \\\n",
       "336                 False             FALSE     False         TRUE       True   \n",
       "483                 False             FALSE     False        FALSE       True   \n",
       "627                 False             FALSE     False        FALSE      False   \n",
       "1331                 True              TRUE     False        FALSE       True   \n",
       "1511                False             FALSE     False        FALSE       True   \n",
       "\n",
       "      hardiness.min hardiness.max  \n",
       "336             3.0            10  \n",
       "483             4.0             9  \n",
       "627             2.0            11  \n",
       "1331            4.0             8  \n",
       "1511            3.0             8  "
      ]
     },
     "execution_count": 711,
     "metadata": {},
     "output_type": "execute_result"
    }
   ],
   "source": [
    "plants_selection[plants_selection['type'].isnull()] # 5 valeurs manquantes"
   ]
  },
  {
   "cell_type": "code",
   "execution_count": 712,
   "metadata": {},
   "outputs": [],
   "source": [
    "# si autres plantes du même nom : remplir avec la première valeur\n",
    "for id in [336, 483, 1331, 1511]:\n",
    "    plants_selection.loc[id, 'type'] = plants_selection.loc[(~plants_selection['type'].isna()) & (plants_selection['common_name']==plants_selection.loc[id, 'common_name']), 'type'].values[0]\n",
    "\n",
    "# sinon on les corrige à la main\n",
    "plants_selection.loc[627, 'type'] = \"potager\" # pas d'autres rutabaga"
   ]
  },
  {
   "cell_type": "code",
   "execution_count": 713,
   "metadata": {},
   "outputs": [
    {
     "data": {
      "text/plain": [
       "np.int64(0)"
      ]
     },
     "execution_count": 713,
     "metadata": {},
     "output_type": "execute_result"
    }
   ],
   "source": [
    "plants_selection['type'].isnull().sum()"
   ]
  },
  {
   "cell_type": "markdown",
   "metadata": {},
   "source": [
    "## Colonne Soil"
   ]
  },
  {
   "cell_type": "code",
   "execution_count": 714,
   "metadata": {},
   "outputs": [
    {
     "data": {
      "text/plain": [
       "soil\n",
       "[]                                                                  1346\n",
       "['Well-drained']                                                     133\n",
       "['Sandy Loamy Clay Rocky']                                            62\n",
       "Low                                                                   46\n",
       "['Humus rich', ' Well-drained']                                       38\n",
       "Moderate                                                              35\n",
       "['Acidic', ' Well-drained']                                           23\n",
       "High                                                                  19\n",
       "['Alkaline', ' Well-drained']                                         15\n",
       "['Rocky ', ' gravelly ', ' dry', ' Well-drained']                     13\n",
       "['Acidic', ' Bog', ' Humus rich']                                     12\n",
       "['Acidic', ' Humus rich', ' Well-drained']                            12\n",
       "['Bog', ' Humus rich']                                                12\n",
       "['Sandy Loamy Rocky']                                                  6\n",
       "['Sandy Loamy Clay']                                                   6\n",
       "['Sandy Loamy Clay Humus']                                             6\n",
       "['Sandy Rocky']                                                        5\n",
       "['Sand', ' Loam']                                                      5\n",
       "['Rocky ', ' gravelly ', ' dry']                                       5\n",
       "['Sandy Loamy']                                                        4\n",
       "['Clay', ' Sand']                                                      4\n",
       "['Alkaline', ' Rocky ', ' gravelly ', ' dry', ' Well-drained']         4\n",
       "['Acidic', ' Alkaline', ' Bog', ' Rocky ', ' gravelly ', ' dry']       4\n",
       "['Acidic', ' Alkaline']                                                3\n",
       "['Alkaline']                                                           2\n",
       "['Bog']                                                                2\n",
       "['Humus rich']                                                         2\n",
       "['Loamy Humus']                                                        2\n",
       "['Sandy Loamy Humus Rocky']                                            2\n",
       "['Loamy Rocky']                                                        1\n",
       "['Sand']                                                               1\n",
       "['Acidic', ' Humus rich']                                              1\n",
       "['Sandy Loamy Clay Humus Rocky']                                       1\n",
       "['Clay', ' Sand', ' Loam']                                             1\n",
       "['Acidic', ' Alkaline', ' Well-drained']                               1\n",
       "['Loam', ' Humus Enriched']                                            1\n",
       "['Loamy Clay']                                                         1\n",
       "['Acidic', ' Bog', ' Well-drained']                                    1\n",
       "['Alkaline', ' Humus rich', ' Well-drained']                           1\n",
       "['Sandy', 'Loamy', 'Clay', 'Humus']                                    1\n",
       "Name: count, dtype: int64"
      ]
     },
     "execution_count": 714,
     "metadata": {},
     "output_type": "execute_result"
    }
   ],
   "source": [
    "plants_selection['soil'].value_counts()"
   ]
  },
  {
   "cell_type": "code",
   "execution_count": 715,
   "metadata": {},
   "outputs": [],
   "source": [
    "plants_selection = plants_selection.drop(columns=['soil'])  # drop pour l'instant, demande trop de nettoyage pour être exploitable"
   ]
  },
  {
   "cell_type": "markdown",
   "metadata": {},
   "source": [
    "## Colonne Cycle\n",
    "\n",
    "- perennials = plants that will come back and regrow year after year\n",
    "- annuals = die off when temperatures get too cold and require you to plant new plants the following spring"
   ]
  },
  {
   "cell_type": "code",
   "execution_count": 716,
   "metadata": {},
   "outputs": [],
   "source": [
    "plants_selection.loc[plants_selection['cycle'].isin([\"Herbaceous Perennial\", \"Perennial.\"]), 'cycle'] = \"Perennial\" # regroupe en 2 catégories"
   ]
  },
  {
   "cell_type": "code",
   "execution_count": 717,
   "metadata": {},
   "outputs": [
    {
     "data": {
      "text/plain": [
       "cycle\n",
       "Perennial    1779\n",
       "Annual         60\n",
       "Name: count, dtype: int64"
      ]
     },
     "execution_count": 717,
     "metadata": {},
     "output_type": "execute_result"
    }
   ],
   "source": [
    "plants_selection['cycle'].value_counts()"
   ]
  },
  {
   "cell_type": "code",
   "execution_count": 718,
   "metadata": {},
   "outputs": [
    {
     "data": {
      "text/plain": [
       "is_perennial\n",
       "True     1779\n",
       "False      60\n",
       "Name: count, dtype: int64"
      ]
     },
     "execution_count": 718,
     "metadata": {},
     "output_type": "execute_result"
    }
   ],
   "source": [
    "# créer une seule colonne : is_perennial -> True, False\n",
    "\n",
    "plants_selection.loc[:, 'is_perennial'] = plants_selection['cycle'].apply(lambda x: True if x==\"Perennial\" else False)\n",
    "plants_selection['is_perennial'].value_counts()"
   ]
  },
  {
   "cell_type": "code",
   "execution_count": 719,
   "metadata": {},
   "outputs": [],
   "source": [
    "plants_selection = plants_selection.drop(columns=['cycle'])"
   ]
  },
  {
   "cell_type": "markdown",
   "metadata": {},
   "source": [
    "## Colonne Attracts"
   ]
  },
  {
   "cell_type": "code",
   "execution_count": 720,
   "metadata": {},
   "outputs": [
    {
     "data": {
      "text/plain": [
       "attracts\n",
       "[]                                            1300\n",
       "['Butterflies']                                212\n",
       "['Birds', ' Butterflies']                      157\n",
       "['Birds']                                       71\n",
       "['Hummingbirds', ' Butterflies']                66\n",
       "['Hummingbirds']                                24\n",
       "['Birds', ' Hummingbirds', ' Butterflies']       6\n",
       "['Squirrels', ' Bees']                           2\n",
       "['Squirrels', ' Birds']                          1\n",
       "Name: count, dtype: int64"
      ]
     },
     "execution_count": 720,
     "metadata": {},
     "output_type": "execute_result"
    }
   ],
   "source": [
    "plants_selection['attracts'].value_counts()"
   ]
  },
  {
   "cell_type": "code",
   "execution_count": 721,
   "metadata": {},
   "outputs": [],
   "source": [
    "# la colonne \"attracts\" contient des listes au format string, on les retransforme en listes et on retire les espaces avant et après les mots contenus dans chaque liste (ex: ' Butterflies')\n",
    "plants_selection.loc[:, 'attracts'] = plants_selection['attracts'].apply(eval)\n",
    "plants_selection.loc[:, 'attracts'] = plants_selection['attracts'].apply(lambda x: [' '.join(s.split()) for s in x])"
   ]
  },
  {
   "cell_type": "code",
   "execution_count": 722,
   "metadata": {},
   "outputs": [],
   "source": [
    " # On crée 4 colonnes : attracts_bees, attracts_butterflies, attracts_birds, attracts_squirrels\n",
    "\n",
    "def attracts(x, animals: List[str]):\n",
    "    for attracted_being in x:\n",
    "        if attracted_being in animals :\n",
    "            return True\n",
    "    return False\n",
    "\n",
    "plants_selection.loc[:,'attracts_birds'] = plants_selection['attracts'].apply(lambda x: attracts(x, ['Birds', 'Hummingbirds']))\n",
    "plants_selection.loc[:,'attracts_butterflies'] = plants_selection['attracts'].apply(lambda x: attracts(x, ['Butterflies']))\n",
    "# plants_selection.loc[:,'attracts_bees'] = plants_selection['attracts'].apply(lambda x: attracts(x, ['Bees'])) que 2, colonne inutile\n",
    "# plants_selection.loc[:,'attracts_squirrels'] = plants_selection['attracts'].apply(lambda x: attracts(x, ['Squirrels'])) que 3, colonne inutile"
   ]
  },
  {
   "cell_type": "code",
   "execution_count": 723,
   "metadata": {},
   "outputs": [
    {
     "data": {
      "text/plain": [
       "attracts_birds\n",
       "False    1514\n",
       "True      325\n",
       "Name: count, dtype: int64"
      ]
     },
     "execution_count": 723,
     "metadata": {},
     "output_type": "execute_result"
    }
   ],
   "source": [
    "plants_selection['attracts_birds'].value_counts()"
   ]
  },
  {
   "cell_type": "code",
   "execution_count": 724,
   "metadata": {},
   "outputs": [],
   "source": [
    "# drop attracts\n",
    "plants_selection = plants_selection.drop(columns=['attracts'])"
   ]
  },
  {
   "cell_type": "markdown",
   "metadata": {},
   "source": [
    "## Colonne sunlight\n",
    "\n",
    "- Soleil (full_sun) : plus de 6h d'ensoleillement par jour \n",
    "- Mi-ombre (part_shade) : de 4 à 6h d'ensoleillement direct ou plus de 8h d'ensoleillement indirect (ex: filtré par des arbres).\n",
    "- Ombre (full_shade) : moins de 4h d'ensoleillement direct ou moins de 8h d'ensoleillement indirect"
   ]
  },
  {
   "cell_type": "code",
   "execution_count": 725,
   "metadata": {},
   "outputs": [
    {
     "data": {
      "text/plain": [
       "sunlight\n",
       "['Full sun']                                                                                   467\n",
       "['Full sun', 'part shade']                                                                     429\n",
       "['full sun', 'part shade']                                                                     187\n",
       "['Part shade', 'full shade']                                                                   176\n",
       "['full sun']                                                                                    97\n",
       "                                                                                              ... \n",
       "['Shade']                                                                                        1\n",
       "['Deep shade', 'Filtered shade', 'Full sun only if soil kept moist', 'Part sun/part shade']      1\n",
       "['Partial sun Shade']                                                                            1\n",
       "['Full sun only if soil kept moist', ' Part sun/part shade']                                     1\n",
       "['Full sun Partial sun Shade']                                                                   1\n",
       "Name: count, Length: 92, dtype: int64"
      ]
     },
     "execution_count": 725,
     "metadata": {},
     "output_type": "execute_result"
    }
   ],
   "source": [
    "plants_selection ['sunlight'].value_counts() "
   ]
  },
  {
   "cell_type": "code",
   "execution_count": 726,
   "metadata": {},
   "outputs": [],
   "source": [
    "plants_selection.loc[:, 'sunlight'] = plants_selection['sunlight'].apply(eval)\n",
    "plants_selection.loc[:, 'sunlight'] = plants_selection['sunlight'].apply(lambda x: [' '.join(s.lower().split()) for s in x])"
   ]
  },
  {
   "cell_type": "code",
   "execution_count": 727,
   "metadata": {},
   "outputs": [],
   "source": [
    "# on regroupe en 3 catégories : full_sun, part_shade et full_shade\n",
    "full_sun = ['full sun', 'sun', 'full sun partial sun']\n",
    "full_shade = [\"deep shade\", \"full shade\", \"shade\"]\n",
    "\n",
    "def categorize_sunlight(x, full_sun=full_sun, full_shade=full_shade):\n",
    "    for sunlight_info in x:\n",
    "        if sunlight_info in full_shade:\n",
    "            return \"full_shade\"\n",
    "    for sunlight_info in x:\n",
    "        if sunlight_info in full_sun:\n",
    "            return \"full_sun\"\n",
    "    return \"part_shade\"\n",
    "\n",
    "plants_selection.loc[:,'sunlight'] = plants_selection['sunlight'].apply(lambda x: categorize_sunlight(x))"
   ]
  },
  {
   "cell_type": "code",
   "execution_count": 728,
   "metadata": {},
   "outputs": [
    {
     "data": {
      "text/plain": [
       "sunlight\n",
       "full_sun      1316\n",
       "part_shade     283\n",
       "full_shade     240\n",
       "Name: count, dtype: int64"
      ]
     },
     "execution_count": 728,
     "metadata": {},
     "output_type": "execute_result"
    }
   ],
   "source": [
    "plants_selection['sunlight'].value_counts()"
   ]
  },
  {
   "cell_type": "markdown",
   "metadata": {},
   "source": [
    "## Colonne growth_rate"
   ]
  },
  {
   "cell_type": "code",
   "execution_count": 729,
   "metadata": {},
   "outputs": [
    {
     "data": {
      "text/plain": [
       "growth_rate\n",
       "Low         1090\n",
       "High         489\n",
       "Moderate     160\n",
       "FALSE         62\n",
       "TRUE          38\n",
       "Name: count, dtype: int64"
      ]
     },
     "execution_count": 729,
     "metadata": {},
     "output_type": "execute_result"
    }
   ],
   "source": [
    "plants_selection['growth_rate'].value_counts() # on pourrait corriger à la main ou voir si scrapping possible"
   ]
  },
  {
   "cell_type": "code",
   "execution_count": 730,
   "metadata": {},
   "outputs": [],
   "source": [
    "# drop pour l'instant:\n",
    "plants_selection = plants_selection.drop(columns=['growth_rate'])"
   ]
  },
  {
   "cell_type": "markdown",
   "metadata": {},
   "source": [
    "## Colonnes Hardiness Min/Max\n",
    "\n",
    "zones de rusticité définies selon les pires température en hiver"
   ]
  },
  {
   "cell_type": "code",
   "execution_count": 731,
   "metadata": {},
   "outputs": [],
   "source": [
    "plants_selection = plants_selection.rename(columns={\"hardiness.min\": \"hardiness_min\", \"hardiness.max\": \"hardiness_max\"})"
   ]
  },
  {
   "cell_type": "code",
   "execution_count": 732,
   "metadata": {},
   "outputs": [
    {
     "data": {
      "text/plain": [
       "hardiness_min\n",
       "2.0      66\n",
       "3.0     323\n",
       "4.0     337\n",
       "5.0     298\n",
       "6.0     382\n",
       "7.0     166\n",
       "8.0     102\n",
       "9.0      67\n",
       "10.0     85\n",
       "11.0     10\n",
       "Name: count, dtype: int64"
      ]
     },
     "execution_count": 732,
     "metadata": {},
     "output_type": "execute_result"
    }
   ],
   "source": [
    "plants_selection[\"hardiness_min\"].value_counts().sort_index()"
   ]
  },
  {
   "cell_type": "code",
   "execution_count": 733,
   "metadata": {},
   "outputs": [
    {
     "data": {
      "text/plain": [
       "hardiness_max\n",
       "https://perenual.com/api/hardiness-map?species_id=123&size=og&key=sk-HWmO67d1db5d934599114    1\n",
       "https://perenual.com/api/hardiness-map?species_id=128&size=og&key=sk-HWmO67d1db5d934599114    1\n",
       "https://perenual.com/api/hardiness-map?species_id=129&size=og&key=sk-HWmO67d1db5d934599114    1\n",
       "https://perenual.com/api/hardiness-map?species_id=131&size=og&key=sk-HWmO67d1db5d934599114    1\n",
       "https://perenual.com/api/hardiness-map?species_id=132&size=og&key=sk-HWmO67d1db5d934599114    1\n",
       "                                                                                             ..\n",
       "https://perenual.com/api/hardiness-map?species_id=340&size=og&key=sk-HWmO67d1db5d934599114    1\n",
       "https://perenual.com/api/hardiness-map?species_id=341&size=og&key=sk-HWmO67d1db5d934599114    1\n",
       "https://perenual.com/api/hardiness-map?species_id=342&size=og&key=sk-HWmO67d1db5d934599114    1\n",
       "https://perenual.com/api/hardiness-map?species_id=343&size=og&key=sk-HWmO67d1db5d934599114    1\n",
       "https://perenual.com/api/hardiness-map?species_id=346&size=og&key=sk-HWmO67d1db5d934599114    1\n",
       "Name: count, Length: 100, dtype: int64"
      ]
     },
     "execution_count": 733,
     "metadata": {},
     "output_type": "execute_result"
    }
   ],
   "source": [
    "# Certaines lignes contiennent des liens vers une carte des zones de rusticité -> on peut les remplacer avec hardiness_min\n",
    "plants_selection.loc[~plants_selection['hardiness_max'].isin([\"1\", \"2\", \"3\", \"4\", \"5\", \"6\", \"7\", \"8\", \"9\", \"10\", \"11\", \"12\", \"13\"]), 'hardiness_max'].value_counts()"
   ]
  },
  {
   "cell_type": "code",
   "execution_count": 734,
   "metadata": {},
   "outputs": [
    {
     "data": {
      "text/plain": [
       "hardiness_min\n",
       "6.0    75\n",
       "7.0    17\n",
       "8.0     6\n",
       "9.0     2\n",
       "Name: count, dtype: int64"
      ]
     },
     "execution_count": 734,
     "metadata": {},
     "output_type": "execute_result"
    }
   ],
   "source": [
    "plants_selection.loc[~plants_selection['hardiness_max'].isin([\"1\", \"2\", \"3\", \"4\", \"5\", \"6\", \"7\", \"8\", \"9\", \"10\", \"11\", \"12\", \"13\"]), 'hardiness_min'].value_counts()"
   ]
  },
  {
   "cell_type": "code",
   "execution_count": 735,
   "metadata": {},
   "outputs": [],
   "source": [
    "mask_islink = ~plants_selection['hardiness_max'].isin([\"1\", \"2\", \"3\", \"4\", \"5\", \"6\", \"7\", \"8\", \"9\", \"10\", \"11\", \"12\", \"13\"])\n",
    "plants_selection.loc[mask_islink, 'hardiness_max'] = plants_selection.loc[mask_islink, 'hardiness_min']"
   ]
  },
  {
   "cell_type": "code",
   "execution_count": 736,
   "metadata": {},
   "outputs": [],
   "source": [
    "plants_selection.loc[:, 'hardiness_max'] = pd.to_numeric(plants_selection['hardiness_max'])"
   ]
  },
  {
   "cell_type": "code",
   "execution_count": 737,
   "metadata": {},
   "outputs": [
    {
     "data": {
      "text/plain": [
       "hardiness_max\n",
       "2.0       1\n",
       "5.0       1\n",
       "6.0     216\n",
       "7.0     170\n",
       "8.0     594\n",
       "9.0     438\n",
       "10.0    213\n",
       "11.0    145\n",
       "12.0     58\n",
       "Name: count, dtype: int64"
      ]
     },
     "execution_count": 737,
     "metadata": {},
     "output_type": "execute_result"
    }
   ],
   "source": [
    "plants_selection[\"hardiness_max\"].value_counts().sort_index()"
   ]
  },
  {
   "cell_type": "code",
   "execution_count": 738,
   "metadata": {},
   "outputs": [
    {
     "data": {
      "text/html": [
       "<div>\n",
       "<style scoped>\n",
       "    .dataframe tbody tr th:only-of-type {\n",
       "        vertical-align: middle;\n",
       "    }\n",
       "\n",
       "    .dataframe tbody tr th {\n",
       "        vertical-align: top;\n",
       "    }\n",
       "\n",
       "    .dataframe thead th {\n",
       "        text-align: right;\n",
       "    }\n",
       "</style>\n",
       "<table border=\"1\" class=\"dataframe\">\n",
       "  <thead>\n",
       "    <tr style=\"text-align: right;\">\n",
       "      <th></th>\n",
       "      <th>common_name</th>\n",
       "      <th>scientific_name</th>\n",
       "      <th>type</th>\n",
       "      <th>maintenance</th>\n",
       "      <th>sunlight</th>\n",
       "      <th>drought_tolerant</th>\n",
       "      <th>salt_tolerant</th>\n",
       "      <th>thorny</th>\n",
       "      <th>poisonous_to_humans</th>\n",
       "      <th>poisonous_to_pets</th>\n",
       "      <th>invasive</th>\n",
       "      <th>edible_fruit</th>\n",
       "      <th>medicinal</th>\n",
       "      <th>hardiness_min</th>\n",
       "      <th>hardiness_max</th>\n",
       "      <th>is_perennial</th>\n",
       "      <th>attracts_birds</th>\n",
       "      <th>attracts_butterflies</th>\n",
       "    </tr>\n",
       "  </thead>\n",
       "  <tbody>\n",
       "    <tr>\n",
       "      <th>498</th>\n",
       "      <td>Malabar spinach</td>\n",
       "      <td>['Basella alba']</td>\n",
       "      <td>plantes_grimpantes</td>\n",
       "      <td>moderate</td>\n",
       "      <td>full_sun</td>\n",
       "      <td>True</td>\n",
       "      <td>True</td>\n",
       "      <td>False</td>\n",
       "      <td>False</td>\n",
       "      <td>FALSE</td>\n",
       "      <td>False</td>\n",
       "      <td>FALSE</td>\n",
       "      <td>True</td>\n",
       "      <td>NaN</td>\n",
       "      <td>NaN</td>\n",
       "      <td>True</td>\n",
       "      <td>False</td>\n",
       "      <td>False</td>\n",
       "    </tr>\n",
       "    <tr>\n",
       "      <th>499</th>\n",
       "      <td>Ceylon spinach</td>\n",
       "      <td>[\"Basella rubra 'Red Stem'\"]</td>\n",
       "      <td>plantes_grimpantes</td>\n",
       "      <td>moderate</td>\n",
       "      <td>full_sun</td>\n",
       "      <td>False</td>\n",
       "      <td>True</td>\n",
       "      <td>False</td>\n",
       "      <td>False</td>\n",
       "      <td>FALSE</td>\n",
       "      <td>False</td>\n",
       "      <td>FALSE</td>\n",
       "      <td>True</td>\n",
       "      <td>NaN</td>\n",
       "      <td>NaN</td>\n",
       "      <td>True</td>\n",
       "      <td>False</td>\n",
       "      <td>False</td>\n",
       "    </tr>\n",
       "    <tr>\n",
       "      <th>1220</th>\n",
       "      <td>carnation</td>\n",
       "      <td>['Dianthus AMERICAN PIE GEORGIA PEACH PIE']</td>\n",
       "      <td>fleurs</td>\n",
       "      <td>low</td>\n",
       "      <td>full_sun</td>\n",
       "      <td>False</td>\n",
       "      <td>True</td>\n",
       "      <td>False</td>\n",
       "      <td>False</td>\n",
       "      <td>FALSE</td>\n",
       "      <td>False</td>\n",
       "      <td>FALSE</td>\n",
       "      <td>False</td>\n",
       "      <td>NaN</td>\n",
       "      <td>NaN</td>\n",
       "      <td>True</td>\n",
       "      <td>False</td>\n",
       "      <td>False</td>\n",
       "    </tr>\n",
       "  </tbody>\n",
       "</table>\n",
       "</div>"
      ],
      "text/plain": [
       "          common_name                              scientific_name  \\\n",
       "498   Malabar spinach                             ['Basella alba']   \n",
       "499    Ceylon spinach                 [\"Basella rubra 'Red Stem'\"]   \n",
       "1220        carnation  ['Dianthus AMERICAN PIE GEORGIA PEACH PIE']   \n",
       "\n",
       "                    type maintenance  sunlight  drought_tolerant  \\\n",
       "498   plantes_grimpantes    moderate  full_sun              True   \n",
       "499   plantes_grimpantes    moderate  full_sun             False   \n",
       "1220              fleurs         low  full_sun             False   \n",
       "\n",
       "      salt_tolerant  thorny  poisonous_to_humans poisonous_to_pets  invasive  \\\n",
       "498            True   False                False             FALSE     False   \n",
       "499            True   False                False             FALSE     False   \n",
       "1220           True   False                False             FALSE     False   \n",
       "\n",
       "     edible_fruit  medicinal  hardiness_min hardiness_max  is_perennial  \\\n",
       "498         FALSE       True            NaN           NaN          True   \n",
       "499         FALSE       True            NaN           NaN          True   \n",
       "1220        FALSE      False            NaN           NaN          True   \n",
       "\n",
       "      attracts_birds  attracts_butterflies  \n",
       "498            False                 False  \n",
       "499            False                 False  \n",
       "1220           False                 False  "
      ]
     },
     "execution_count": 738,
     "metadata": {},
     "output_type": "execute_result"
    }
   ],
   "source": [
    "# 3 plantes pour lesquelles la zone de rusticité n'est pas renseignée -> recherche sur google et rempli à la main\n",
    "plants_selection.loc[plants_selection['hardiness_max'].isna() | plants_selection['hardiness_min'].isna()]"
   ]
  },
  {
   "cell_type": "code",
   "execution_count": 739,
   "metadata": {},
   "outputs": [],
   "source": [
    "# Malabar spinach\n",
    "plants_selection.loc[498, 'hardiness_min'] = 7.0\n",
    "plants_selection.loc[498, 'hardiness_max'] = 11.0\n",
    "\n",
    "# Ceylon spinach\n",
    "plants_selection.loc[499, 'hardiness_min'] = 9.0\n",
    "plants_selection.loc[499, 'hardiness_max'] = 11.0\n",
    "\n",
    "# carnation aka Dianthus American Pie 'Georgia Peach Pie'\n",
    "plants_selection.loc[1220, 'hardiness_min'] = 5.0\n",
    "plants_selection.loc[1220, 'hardiness_max'] = 9.0"
   ]
  },
  {
   "cell_type": "code",
   "execution_count": 740,
   "metadata": {},
   "outputs": [
    {
     "data": {
      "text/plain": [
       "common_name             0\n",
       "scientific_name         0\n",
       "type                    0\n",
       "maintenance             0\n",
       "sunlight                0\n",
       "drought_tolerant        0\n",
       "salt_tolerant           0\n",
       "thorny                  0\n",
       "poisonous_to_humans     0\n",
       "poisonous_to_pets       0\n",
       "invasive                0\n",
       "edible_fruit            0\n",
       "medicinal               0\n",
       "hardiness_min           0\n",
       "hardiness_max           0\n",
       "is_perennial            0\n",
       "attracts_birds          0\n",
       "attracts_butterflies    0\n",
       "dtype: int64"
      ]
     },
     "execution_count": 740,
     "metadata": {},
     "output_type": "execute_result"
    }
   ],
   "source": [
    "plants_selection.isnull().sum()"
   ]
  },
  {
   "cell_type": "markdown",
   "metadata": {},
   "source": [
    "## Colonne Poisonous to pets/humans"
   ]
  },
  {
   "cell_type": "code",
   "execution_count": 741,
   "metadata": {},
   "outputs": [],
   "source": [
    "# Dans algo de recommendation on supprimera directement toutes les plantes toxiques pour humains et animaux de compagnie. "
   ]
  },
  {
   "cell_type": "code",
   "execution_count": 742,
   "metadata": {},
   "outputs": [
    {
     "data": {
      "text/plain": [
       "poisonous_to_humans\n",
       "False    0.960848\n",
       "True     0.039152\n",
       "Name: proportion, dtype: float64"
      ]
     },
     "execution_count": 742,
     "metadata": {},
     "output_type": "execute_result"
    }
   ],
   "source": [
    "plants_selection['poisonous_to_humans'].value_counts(normalize=True)"
   ]
  },
  {
   "cell_type": "code",
   "execution_count": 743,
   "metadata": {},
   "outputs": [
    {
     "data": {
      "text/plain": [
       "poisonous_to_pets\n",
       "FALSE                                                                                                                                                                                                                                                                                                                                                                                                                                                                                                                                                                                                                                                            1637\n",
       "TRUE                                                                                                                                                                                                                                                                                                                                                                                                                                                                                                                                                                                                                                                              102\n",
       "Tamukeyama Japanese Maple is an amazing plant species. Featuring dramatic red and purple foliage, the Tamukeyama is one of the most attractive maples around. It produces gorgeous foliage in the late spring and keeps its color throughout the summer months. In the autumn, the leaves turn a striking orange-yellow. Tamukeyama is also known for its full, dense canopy and compact form, making it an ideal choice for smaller gardens, courtyards, and containers. With minimal maintenance, this low-maintenance, moderate-growing maple can lend beauty and interest to the landscape for years to come.                                                   1\n",
       "The Tana Japanese Maple (Acer palmatum 'Tana') is an amazing choice for any garden. This small shrubby tree is known to be extremely disease-resistant and low-maintenance, making it a great choice for hassle-free gardening. Not only that, its signature green foliage with yellow variegation makes it a stunning addition to any kind of planting bed or landscape. The addition of brilliant red hues during autumn adds a splash of color to foliage season. Its dense, upright habit makes it perfect for pruning, adding to its aesthetic, and its ability to thrive in various sunny and shaded climates makes it perfect for any garden location.       1\n",
       "The Acer palmatum 'Trompenburg' is a truly astounding Japanese Maple that offers much to both new and experienced gardeners alike. This variety is a stand-out among its relatives, offering a unique weeping-like structure that epitomizes the Japanese sophistication of a mature garden. Its deep green, sharply pointed leaves turn a magnificent range of shades in the fall, ranging from bright oranges to deep greens and reds. Though it can be grown in a variety of soil types and light conditions, adding a little more attention will truly reward you with a spectacle of foliage unmatched by other trees in your garden.                          1\n",
       "                                                                                                                                                                                                                                                                                                                                                                                                                                                                                                                                                                                                                                                                 ... \n",
       "Southern Magnolia (Magnolia grandiflora) is an amazing plant species known for its towering stature and incredibly fragrant flowers. It produces beautiful, creamy-white flowers that bloom in the spring and summer months, filling the air with a delightful scent. The foliage of the Southern Magnolia is large and glossy, providing much-needed shade during hot summers. The plant is also highly adaptable and able to thrive in many climates and growing conditions. The Southern Magnolia is a great choice for any garden and makes a bold statement wherever it is planted.                                                                            1\n",
       "The D.D. Blanchard Magnolia is an amazing plant species sure to add beauty and elegance to any garden. Noted for its dark green glossy leaves, fragrant ivory white summer blooms and impressive evergreen stature, this majestic tree is a must-have. Reaching heights of up to thirty feet, it can provide a stunning backdrop to any outdoor space, while its low level of maintenance makes it a great choice for the busy gardener. Whether planted in a garden bed, or as a display of structural beauty, the D.D. Blanchard Magnolia will add a touch of magnificence to any outdoor setting.                                                                1\n",
       "Little Gem Magnolia is one of the most popular garden plants. This slow-growing, evergreen tree has an upright pyramidal shape with dense, glossy foliage. Its easily maintained reaching up to 10-15 feet in height, and is perfect for tight spaces. The deep green, magnolia-like leaves have a rusty underside which adds to its charm. In fall and winter, pale yellow flowers grace its branches. Its tolerance for heat and humidity make it an ideal choice for any garden, and as an added bonus it's virtually pest and disease-free. Its unmistakable beauty makes it a great addition to any landscape.                                                 1\n",
       "The Teddy Bear® Magnolia tree is a stunning and unique species, boasting beautiful large white blooms and deep green foliage. It's a perfect choice for those looking for an eye-catching display in their gardens. Its moderate growth rate, compact size and drought tolerance make it an ideal candidate for urban landscapes or smaller gardens. The flowers emit a delicious vanilla fragrance, which is sweet and alluring. This tree is resistant to pests and diseases, and its glossy evergreen leaves help it stand out, even during winter. This distinctive species is perfect for making any garden or landscape come alive.                           1\n",
       "The Oyama Magnolia (Magnolia sieboldii) is an amazing species of tree that is native to East Asia. It is an ornamental tree, with stunning big white and pink cup-shaped flowers that bloom among its beautiful, dark-green leaves in early spring. It is a fast-growing species that is adaptable to a wide range of climates and soils, making it a good choice for home gardeners. An added bonus is that the Oyama Magnolia produces delicious edible fruit, popular in many Asian countries. Pruned into hedges or left to its natural shape, this tree will become a stunning addition to any garden.                                                         1\n",
       "Name: count, Length: 102, dtype: int64"
      ]
     },
     "execution_count": 743,
     "metadata": {},
     "output_type": "execute_result"
    }
   ],
   "source": [
    "plants_selection['poisonous_to_pets'].value_counts()"
   ]
  },
  {
   "cell_type": "code",
   "execution_count": 744,
   "metadata": {},
   "outputs": [],
   "source": [
    "def clean_poisonous_to_pets(x):\n",
    "    if x == \"TRUE\":\n",
    "        return True\n",
    "    elif x==\"FALSE\":\n",
    "        return False\n",
    "    else:\n",
    "        return True # renvoie True par défaut (pour l'instant, on pourra faire une recherche et les remplir à la main plus tard), vaut mieux dire au gens que la plante est toxique, que l'inverse et que leur chien s'empoisonne.\n",
    "    \n",
    "plants_selection.loc[:, 'poisonous_to_pets'] = plants_selection['poisonous_to_pets'].apply(lambda x: clean_poisonous_to_pets(x))"
   ]
  },
  {
   "cell_type": "code",
   "execution_count": 745,
   "metadata": {},
   "outputs": [
    {
     "data": {
      "text/plain": [
       "poisonous_to_pets\n",
       "False    0.890158\n",
       "True     0.109842\n",
       "Name: proportion, dtype: float64"
      ]
     },
     "execution_count": 745,
     "metadata": {},
     "output_type": "execute_result"
    }
   ],
   "source": [
    "plants_selection['poisonous_to_pets'].value_counts(normalize=True) "
   ]
  },
  {
   "cell_type": "markdown",
   "metadata": {},
   "source": [
    "## Colonne \"Invasive\"\n",
    "\n",
    "invasive plants : non-native plant that grows where you don't want it to and behaves in a way that makes it hard to control\n",
    "\n",
    "rmq : ici envahissante du point de vue d'un jardinier américain, pas forcément le cas pour la France -> trouver une liste pour la France"
   ]
  },
  {
   "cell_type": "code",
   "execution_count": 746,
   "metadata": {},
   "outputs": [
    {
     "data": {
      "text/plain": [
       "invasive\n",
       "False    1633\n",
       "True      206\n",
       "Name: count, dtype: int64"
      ]
     },
     "execution_count": 746,
     "metadata": {},
     "output_type": "execute_result"
    }
   ],
   "source": [
    "# Dans algo de recommandation, on va exclure les plantes envahissantes par défaut\n",
    "plants_selection['invasive'].value_counts()"
   ]
  },
  {
   "cell_type": "markdown",
   "metadata": {},
   "source": [
    "## Colonnes résistance sécheresse/sel"
   ]
  },
  {
   "cell_type": "code",
   "execution_count": 747,
   "metadata": {},
   "outputs": [
    {
     "data": {
      "text/plain": [
       "drought_tolerant\n",
       "False    974\n",
       "True     865\n",
       "Name: count, dtype: int64"
      ]
     },
     "execution_count": 747,
     "metadata": {},
     "output_type": "execute_result"
    }
   ],
   "source": [
    "plants_selection['drought_tolerant'].value_counts()"
   ]
  },
  {
   "cell_type": "code",
   "execution_count": 748,
   "metadata": {},
   "outputs": [
    {
     "data": {
      "text/plain": [
       "salt_tolerant\n",
       "False    1022\n",
       "True      817\n",
       "Name: count, dtype: int64"
      ]
     },
     "execution_count": 748,
     "metadata": {},
     "output_type": "execute_result"
    }
   ],
   "source": [
    "plants_selection['salt_tolerant'].value_counts() # -> bord de mer"
   ]
  },
  {
   "cell_type": "markdown",
   "metadata": {},
   "source": [
    "## Colonnes sur lesquelles l'utilisateur pourra filtrer:"
   ]
  },
  {
   "cell_type": "code",
   "execution_count": 749,
   "metadata": {},
   "outputs": [
    {
     "data": {
      "text/plain": [
       "Index(['common_name', 'scientific_name', 'type', 'maintenance', 'sunlight',\n",
       "       'drought_tolerant', 'salt_tolerant', 'thorny', 'poisonous_to_humans',\n",
       "       'poisonous_to_pets', 'invasive', 'edible_fruit', 'medicinal',\n",
       "       'hardiness_min', 'hardiness_max', 'is_perennial', 'attracts_birds',\n",
       "       'attracts_butterflies'],\n",
       "      dtype='object')"
      ]
     },
     "execution_count": 749,
     "metadata": {},
     "output_type": "execute_result"
    }
   ],
   "source": [
    "plants_selection.columns"
   ]
  },
  {
   "cell_type": "code",
   "execution_count": 750,
   "metadata": {},
   "outputs": [
    {
     "data": {
      "text/plain": [
       "medicinal\n",
       "False    1199\n",
       "True      640\n",
       "Name: count, dtype: int64"
      ]
     },
     "execution_count": 750,
     "metadata": {},
     "output_type": "execute_result"
    }
   ],
   "source": [
    "plants_selection['medicinal'].value_counts() # Filtrer sur les plantes médicinale ou pas."
   ]
  },
  {
   "cell_type": "code",
   "execution_count": 751,
   "metadata": {},
   "outputs": [
    {
     "data": {
      "text/plain": [
       "thorny\n",
       "False    1639\n",
       "True      200\n",
       "Name: count, dtype: int64"
      ]
     },
     "execution_count": 751,
     "metadata": {},
     "output_type": "execute_result"
    }
   ],
   "source": [
    "plants_selection['thorny'].value_counts() # Exclure les plantes à épines ou pas."
   ]
  },
  {
   "cell_type": "code",
   "execution_count": 752,
   "metadata": {},
   "outputs": [],
   "source": [
    "def clean_edible_fruits(x):\n",
    "    if x == \"TRUE\":\n",
    "        return True\n",
    "    elif x==\"FALSE\":\n",
    "        return False\n",
    "    else:\n",
    "        return False # renvoie False par défaut, vaut mieux dire au gens que c non comestible, que l'inverse et qu'ils s'empoisonnent'.\n",
    "    \n",
    "plants_selection.loc[:, 'edible_fruit'] = plants_selection['edible_fruit'].apply(lambda x: clean_edible_fruits(x))"
   ]
  },
  {
   "cell_type": "code",
   "execution_count": 753,
   "metadata": {},
   "outputs": [
    {
     "data": {
      "text/plain": [
       "edible_fruit\n",
       "False    1719\n",
       "True      120\n",
       "Name: count, dtype: int64"
      ]
     },
     "execution_count": 753,
     "metadata": {},
     "output_type": "execute_result"
    }
   ],
   "source": [
    "plants_selection['edible_fruit'].value_counts() # Filtrer sur plantes avec des fruits comestibles ou pas."
   ]
  },
  {
   "cell_type": "markdown",
   "metadata": {},
   "source": [
    "## Jeu de données propre"
   ]
  },
  {
   "cell_type": "code",
   "execution_count": 754,
   "metadata": {},
   "outputs": [
    {
     "data": {
      "text/plain": [
       "Index(['common_name', 'scientific_name', 'type', 'maintenance', 'sunlight',\n",
       "       'drought_tolerant', 'salt_tolerant', 'thorny', 'poisonous_to_humans',\n",
       "       'poisonous_to_pets', 'invasive', 'edible_fruit', 'medicinal',\n",
       "       'hardiness_min', 'hardiness_max', 'is_perennial', 'attracts_birds',\n",
       "       'attracts_butterflies'],\n",
       "      dtype='object')"
      ]
     },
     "execution_count": 754,
     "metadata": {},
     "output_type": "execute_result"
    }
   ],
   "source": [
    "plants_selection.columns"
   ]
  },
  {
   "cell_type": "code",
   "execution_count": 755,
   "metadata": {},
   "outputs": [
    {
     "data": {
      "text/plain": [
       "common_name             0\n",
       "scientific_name         0\n",
       "type                    0\n",
       "maintenance             0\n",
       "sunlight                0\n",
       "drought_tolerant        0\n",
       "salt_tolerant           0\n",
       "thorny                  0\n",
       "poisonous_to_humans     0\n",
       "poisonous_to_pets       0\n",
       "invasive                0\n",
       "edible_fruit            0\n",
       "medicinal               0\n",
       "hardiness_min           0\n",
       "hardiness_max           0\n",
       "is_perennial            0\n",
       "attracts_birds          0\n",
       "attracts_butterflies    0\n",
       "dtype: int64"
      ]
     },
     "execution_count": 755,
     "metadata": {},
     "output_type": "execute_result"
    }
   ],
   "source": [
    "plants_selection.isnull().sum()"
   ]
  },
  {
   "cell_type": "code",
   "execution_count": 756,
   "metadata": {},
   "outputs": [
    {
     "data": {
      "text/plain": [
       "(1839, 18)"
      ]
     },
     "execution_count": 756,
     "metadata": {},
     "output_type": "execute_result"
    }
   ],
   "source": [
    "plants_selection.shape"
   ]
  },
  {
   "cell_type": "code",
   "execution_count": 757,
   "metadata": {},
   "outputs": [],
   "source": [
    "plants_selection.to_csv('../data/processed/plants_clean_dataset.csv', index=False)"
   ]
  }
 ],
 "metadata": {
  "kernelspec": {
   "display_name": ".venv",
   "language": "python",
   "name": "python3"
  },
  "language_info": {
   "codemirror_mode": {
    "name": "ipython",
    "version": 3
   },
   "file_extension": ".py",
   "mimetype": "text/x-python",
   "name": "python",
   "nbconvert_exporter": "python",
   "pygments_lexer": "ipython3",
   "version": "3.12.7"
  }
 },
 "nbformat": 4,
 "nbformat_minor": 2
}
